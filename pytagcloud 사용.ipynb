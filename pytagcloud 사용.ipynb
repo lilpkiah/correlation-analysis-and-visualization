{
 "cells": [
  {
   "cell_type": "markdown",
   "id": "2e9d9c4f-0811-4553-8710-e4e4a24732cf",
   "metadata": {},
   "source": [
    "- pip instal pygame\n",
    "- pip instal pytagcloud\n",
    "- pip install simplejson"
   ]
  },
  {
   "cell_type": "code",
   "execution_count": 1,
   "id": "57e2f95c-5530-45a3-88cc-03ec47c2cdf1",
   "metadata": {},
   "outputs": [
    {
     "name": "stdout",
     "output_type": "stream",
     "text": [
      "pygame 2.1.0 (SDL 2.0.16, Python 3.8.8)\n",
      "Hello from the pygame community. https://www.pygame.org/contribute.html\n"
     ]
    }
   ],
   "source": [
    "from collections import Counter  # 단어들을 집계하기 위해서 사용\n",
    "from konlpy.tag import Okt # 형태소 분석기\n",
    "import pytagcloud # pygame 패키지에 의존적, pygame 설치 요구"
   ]
  },
  {
   "cell_type": "code",
   "execution_count": 2,
   "id": "5b795a27-ecf5-4c67-868b-db37c6542789",
   "metadata": {},
   "outputs": [
    {
     "name": "stdout",
     "output_type": "stream",
     "text": [
      "20대 대통령 선거일이 다가오면서 차기 정부 조직 개편과 관련한 논의도 달아오르고 있다. 특히 기획재정부는 개편 대상에서 빠지지 않고 거론되는 정부 부처다. 권한이 지나치게 방대하고, 기재부 출신이 여러 정부 부처 고위직을 장악하고 있어 정부 내 입김이 너무 세다는 평가를 받기 때문이다. 뉴스타파는 기획재정부 인사발령 데이터 등을 토대로 실제 기재부의 정부 고위직 장악 실태가 어떤지, 집중된 권한의 실체는 뭔지 분석했다.\n",
      "문재인 대통령은 지난 11월 21일 '2021 국민과의 대화'에서 재난지원금 지원 대상 선별과 관련해 \"내각의 판단을 신뢰한다”며 \"정부의 입장은 그런 (선별지원) 방향으로 가고 있다는 말씀을 드린다\"라고 밝혔다. 당정이 갈등을 빚었던 전국민 재난지원금 지급 문제와 관련해 기재부의 손을 들어준 것이다.\n",
      "이재명 후보와 더불어민주당 지도부는 전국민 재난지원금 지급을 주장했으나 끝내 기재부의 벽을 넘지 못했다.\n",
      "기재부 대 정부 다른 부처나 정당, 지자체의 갈등은 문재인 정부 출범 이후 더욱 심해졌다. 정권 초기 ‘소득주도성장’로 대표되는 경제정책 기조를 둘러싼 갈등을 시작으로 ‘주택 공급 대책’, ‘주식 양도소득세 대주주 기준 변경’ 등 주요 정책 결정 때마다 마찰이 일어났다. 그리고 코로나19 위기 극복을 위한 ‘재난지원금 지원 대상 선정’ 문제로 갈등은 극에 달했다.\n",
      "지난 11월 5일 열린 국회 예산결산특별위원회 회의에서 홍남기 경제부총리 겸 기재부 장관은 기재부 개편설과 관련한 질의에 ‘뼈 빠지게 일을 하는데 억울하다'라며 불편한 기색을 감추지 않았다. 그는 10월 13일 G20 재무장관회의 동행 기자단 간담회에서도 ‘기재부 조직 분리’ 논의를 두고 “내년 대선 후에 그런 논의가 있을 수 있지만, 코로나19 위기 극복을 위해 전력투구해도 모자란데 거기에 신경 쓸 여력이나 시간이 없다”라고 답했다.\n",
      "코로나19 위기 극복에 여념이 없다는 기재부와 홍남기 부총리는 조직 해체 논의가 억울하다고 했지만 역설적이게도 기재부의 코로나19 위기 극복 대응 행태가 기재부 개편 논의를 촉발시킨 측면이 있다.\n",
      "\n"
     ]
    }
   ],
   "source": [
    "f=open(\"data/data.txt\", encoding=\"utf-8\")\n",
    "data=f.read()\n",
    "print(data)"
   ]
  },
  {
   "cell_type": "code",
   "execution_count": 3,
   "id": "d89b5e53-9086-4131-896e-35b6495225db",
   "metadata": {},
   "outputs": [
    {
     "name": "stdout",
     "output_type": "stream",
     "text": [
      "['대통령', '선거일', '차기', '정부', '조직', '개편', '관련', '논의', '기획재정부', '개편', '대상', '거론', '정부', '부처', '권한', '기재부', '출신', '여러', '정부', '부처', '고위', '직', '장악', '정부', '내', '입김', '평가', '때문', '뉴스타파', '기획재정부', '인사', '발령', '데이터', '등', '토대', '실제', '기재부', '정부', '고위', '직', '장악', '실태', '집중', '권한', '실체', '분석', '문재인', '대통령', '지난', '국민', '대화', '재난', '원금', '지원', '대상', '선별', '관련', '내각', '판단', '신뢰', '며', '정부', '입장', '선', '지원', '방향', '말씀', '정이', '갈등', '빚었던', '국민', '재난', '원금', '지급', '문제', '관련', '기재부', '손', '것', '이재명', '후보', '민주당', '도부', '국민', '재난', '원금', '지급', '주장', '끝내', '기재부', '벽', '기재부', '정부', '다른', '부처', '정당', '지자체', '갈등', '문재인', '정부', '출범', '이후', '더욱', '정권', '초기', '소득', '주도', '성장', '로', '대표', '경제정책', '기조', '갈등', '시작', '주택', '공급', '대책', '주식', '양도소득세', '주주', '기준', '변경', '등', '주요', '정책', '결정', '때', '마찰', '코로나', '위기', '극복', '위', '재난', '원금', '지원', '대상', '선정', '문제', '갈등', '극', '달', '지난', '국회', '예산', '결산', '특별', '위원회', '회의', '홍', '경제부총리', '겸', '기재부', '장관', '기재부', '개편', '설', '관련', '질의', '뼈', '일', '라며', '기색', '그', '재무', '장관', '회의', '동행', '자단', '간담', '회', '기재부', '조직', '분리', '논의', '내년', '대선', '후', '논의', '수', '코로나', '위기', '극복', '위해', '전력', '투구', '해도', '거기', '신경', '여력', '시간', '답', '코로나', '위기', '극복', '여념', '기재부', '홍', '부총리', '조직', '해체', '논의', '역설', '기재부', '코로나', '위기', '극복', '대응', '행태', '기재부', '개편', '논의', '촉발', '측면']\n"
     ]
    }
   ],
   "source": [
    "npl=Okt()\n",
    "nouns=npl.nouns(data)\n",
    "print(nouns)"
   ]
  },
  {
   "cell_type": "code",
   "execution_count": 4,
   "id": "4135f730-f0b4-48cf-a1f6-8cc28f839670",
   "metadata": {},
   "outputs": [
    {
     "name": "stdout",
     "output_type": "stream",
     "text": [
      "Counter({'기재부': 11, '정부': 8, '논의': 5, '개편': 4, '관련': 4, '재난': 4, '원금': 4, '갈등': 4, '코로나': 4, '위기': 4, '극복': 4, '조직': 3, '대상': 3, '부처': 3, '국민': 3, '지원': 3, '대통령': 2, '기획재정부': 2, '권한': 2, '고위': 2, '직': 2, '장악': 2, '등': 2, '문재인': 2, '지난': 2, '지급': 2, '문제': 2, '회의': 2, '홍': 2, '장관': 2, '선거일': 1, '차기': 1, '거론': 1, '출신': 1, '여러': 1, '내': 1, '입김': 1, '평가': 1, '때문': 1, '뉴스타파': 1, '인사': 1, '발령': 1, '데이터': 1, '토대': 1, '실제': 1, '실태': 1, '집중': 1, '실체': 1, '분석': 1, '대화': 1, '선별': 1, '내각': 1, '판단': 1, '신뢰': 1, '며': 1, '입장': 1, '선': 1, '방향': 1, '말씀': 1, '정이': 1, '빚었던': 1, '손': 1, '것': 1, '이재명': 1, '후보': 1, '민주당': 1, '도부': 1, '주장': 1, '끝내': 1, '벽': 1, '다른': 1, '정당': 1, '지자체': 1, '출범': 1, '이후': 1, '더욱': 1, '정권': 1, '초기': 1, '소득': 1, '주도': 1, '성장': 1, '로': 1, '대표': 1, '경제정책': 1, '기조': 1, '시작': 1, '주택': 1, '공급': 1, '대책': 1, '주식': 1, '양도소득세': 1, '주주': 1, '기준': 1, '변경': 1, '주요': 1, '정책': 1, '결정': 1, '때': 1, '마찰': 1, '위': 1, '선정': 1, '극': 1, '달': 1, '국회': 1, '예산': 1, '결산': 1, '특별': 1, '위원회': 1, '경제부총리': 1, '겸': 1, '설': 1, '질의': 1, '뼈': 1, '일': 1, '라며': 1, '기색': 1, '그': 1, '재무': 1, '동행': 1, '자단': 1, '간담': 1, '회': 1, '분리': 1, '내년': 1, '대선': 1, '후': 1, '수': 1, '위해': 1, '전력': 1, '투구': 1, '해도': 1, '거기': 1, '신경': 1, '여력': 1, '시간': 1, '답': 1, '여념': 1, '부총리': 1, '해체': 1, '역설': 1, '대응': 1, '행태': 1, '촉발': 1, '측면': 1})\n"
     ]
    }
   ],
   "source": [
    "count=Counter(nouns) # 단어 집계\n",
    "print(count)"
   ]
  },
  {
   "cell_type": "code",
   "execution_count": 6,
   "id": "5929da61-cf99-4163-b604-f723113c81ad",
   "metadata": {},
   "outputs": [
    {
     "ename": "NameError",
     "evalue": "name 'tags' is not defined",
     "output_type": "error",
     "traceback": [
      "\u001b[1;31m---------------------------------------------------------------------------\u001b[0m",
      "\u001b[1;31mNameError\u001b[0m                                 Traceback (most recent call last)",
      "\u001b[1;32m<ipython-input-6-2d26f6f0a2b2>\u001b[0m in \u001b[0;36m<module>\u001b[1;34m\u001b[0m\n\u001b[0;32m      3\u001b[0m \u001b[1;32mfor\u001b[0m \u001b[0mtag\u001b[0m\u001b[1;33m,\u001b[0m \u001b[0mcount\u001b[0m \u001b[1;32min\u001b[0m \u001b[0mtag2\u001b[0m\u001b[1;33m:\u001b[0m\u001b[1;33m\u001b[0m\u001b[1;33m\u001b[0m\u001b[0m\n\u001b[0;32m      4\u001b[0m     \u001b[1;32mif\u001b[0m \u001b[1;33m(\u001b[0m\u001b[0mlen\u001b[0m\u001b[1;33m(\u001b[0m\u001b[0mstr\u001b[0m\u001b[1;33m(\u001b[0m\u001b[0mtag\u001b[0m\u001b[1;33m)\u001b[0m\u001b[1;33m)\u001b[0m \u001b[1;33m>\u001b[0m \u001b[1;36m1\u001b[0m\u001b[1;33m)\u001b[0m\u001b[1;33m:\u001b[0m\u001b[1;33m\u001b[0m\u001b[1;33m\u001b[0m\u001b[0m\n\u001b[1;32m----> 5\u001b[1;33m         \u001b[0mwordInfo\u001b[0m\u001b[1;33m[\u001b[0m\u001b[0mtags\u001b[0m\u001b[1;33m]\u001b[0m \u001b[1;33m=\u001b[0m \u001b[0mcount\u001b[0m\u001b[1;33m\u001b[0m\u001b[1;33m\u001b[0m\u001b[0m\n\u001b[0m\u001b[0;32m      6\u001b[0m         \u001b[0mprint\u001b[0m\u001b[1;33m(\u001b[0m\u001b[1;34m\"%s : %d\"\u001b[0m \u001b[1;33m%\u001b[0m \u001b[1;33m(\u001b[0m\u001b[0mtag\u001b[0m\u001b[1;33m,\u001b[0m \u001b[0mcount\u001b[0m\u001b[1;33m)\u001b[0m\u001b[1;33m)\u001b[0m\u001b[1;33m\u001b[0m\u001b[1;33m\u001b[0m\u001b[0m\n\u001b[0;32m      7\u001b[0m \u001b[0mprint\u001b[0m\u001b[1;33m(\u001b[0m\u001b[0mwordInfo\u001b[0m\u001b[1;33m)\u001b[0m\u001b[1;33m\u001b[0m\u001b[1;33m\u001b[0m\u001b[0m\n",
      "\u001b[1;31mNameError\u001b[0m: name 'tags' is not defined"
     ]
    }
   ],
   "source": [
    "wordInfo={}\n",
    "tag2=count.most_common(50)\n",
    "for tag, count in tag2:\n",
    "    if (len(str(tag)) > 1):\n",
    "        wordInfo[tags] = count\n",
    "        print(\"%s : %d\" % (tag, count))\n",
    "print(wordInfo)"
   ]
  },
  {
   "cell_type": "code",
   "execution_count": 5,
   "id": "89e9c250-9fc5-43c5-93a0-fc536fb848ca",
   "metadata": {},
   "outputs": [
    {
     "name": "stdout",
     "output_type": "stream",
     "text": [
      "[{'color': (124, 64, 105), 'size': 93, 'tag': '기재부'}, {'color': (49, 126, 62), 'size': 73, 'tag': '정부'}, {'color': (22, 145, 65), 'size': 51, 'tag': '논의'}, {'color': (54, 11, 103), 'size': 43, 'tag': '개편'}, {'color': (34, 40, 50), 'size': 43, 'tag': '관련'}, {'color': (92, 18, 53), 'size': 43, 'tag': '재난'}, {'color': (174, 133, 43), 'size': 43, 'tag': '원금'}, {'color': (208, 139, 50), 'size': 43, 'tag': '갈등'}, {'color': (109, 159, 156), 'size': 43, 'tag': '코로나'}, {'color': (35, 31, 196), 'size': 43, 'tag': '위기'}, {'color': (54, 36, 167), 'size': 43, 'tag': '극복'}, {'color': (27, 146, 133), 'size': 34, 'tag': '조직'}, {'color': (16, 132, 67), 'size': 34, 'tag': '대상'}, {'color': (50, 201, 54), 'size': 34, 'tag': '부처'}, {'color': (185, 215, 188), 'size': 34, 'tag': '국민'}, {'color': (141, 199, 90), 'size': 34, 'tag': '지원'}, {'color': (135, 151, 23), 'size': 26, 'tag': '대통령'}, {'color': (201, 171, 52), 'size': 26, 'tag': '기획재정부'}, {'color': (121, 186, 141), 'size': 26, 'tag': '권한'}, {'color': (37, 194, 114), 'size': 26, 'tag': '고위'}]\n"
     ]
    }
   ],
   "source": [
    "tag2=count.most_common(20) # 상위 20개만 추출\n",
    "taglist = pytagcloud.make_tags(tag2, maxsize=80) # tag2데이터로 태그 생성\n",
    "print(taglist)\n",
    "f.close()"
   ]
  },
  {
   "cell_type": "markdown",
   "id": "64e97d87-0e8f-44ce-8024-96079646e302",
   "metadata": {},
   "source": [
    "## create_tag_image(taglist, 'wordcloud.jpg', size=(900, 600), fontname='Noblie', rectangular=False)"
   ]
  },
  {
   "cell_type": "code",
   "execution_count": 8,
   "id": "1e0b084d-92dd-4cd0-b0cb-bf5fb94c6ad4",
   "metadata": {},
   "outputs": [],
   "source": [
    "pytagcloud.create_tag_image(taglist, 'data/wordcloud.jpg', size=(900, 600), fontname='Korean', rectangular=False)"
   ]
  },
  {
   "cell_type": "code",
   "execution_count": null,
   "id": "2d177dc2-1072-4310-b097-fe0e15c5a9a5",
   "metadata": {},
   "outputs": [],
   "source": []
  },
  {
   "cell_type": "code",
   "execution_count": null,
   "id": "6d765ba4-e79b-440b-a0f9-c403d23bb2ef",
   "metadata": {},
   "outputs": [],
   "source": []
  }
 ],
 "metadata": {
  "kernelspec": {
   "display_name": "Python 3",
   "language": "python",
   "name": "python3"
  },
  "language_info": {
   "codemirror_mode": {
    "name": "ipython",
    "version": 3
   },
   "file_extension": ".py",
   "mimetype": "text/x-python",
   "name": "python",
   "nbconvert_exporter": "python",
   "pygments_lexer": "ipython3",
   "version": "3.8.8"
  }
 },
 "nbformat": 4,
 "nbformat_minor": 5
}
